{
 "cells": [
  {
   "cell_type": "markdown",
   "id": "ee020998",
   "metadata": {},
   "source": [
    "# Programación funcional"
   ]
  },
  {
   "cell_type": "markdown",
   "id": "2878e336",
   "metadata": {},
   "source": [
    "## I. Introducción\n",
    "### Qué es la programación funcional?\n",
    "\n",
    "La programación funcional es un paradigma de programación que trata los cálculos como evaluaciones de funciones matemáticas y evita el cambio de estado y las mutaciones de datos. Se basa en el uso de funciones puras, que son funciones sin efectos secundarios y cuyo resultado solo depende de sus argumentos.\n",
    "\n",
    "\n"
   ]
  },
  {
   "cell_type": "markdown",
   "id": "596b0825",
   "metadata": {},
   "source": [
    "### Ejemplo de programacion funcional vs programación imperativa\n"
   ]
  },
  {
   "cell_type": "markdown",
   "id": "bfe97b86",
   "metadata": {},
   "source": [
    "#### Programación imperativa:\n",
    "En la programación imperativa, se describe cómo se realiza el cálculo paso a paso utilizando variables mutables y estructuras de control como bucles."
   ]
  },
  {
   "cell_type": "code",
   "execution_count": null,
   "id": "e86a2aa4",
   "metadata": {},
   "outputs": [],
   "source": []
  },
  {
   "cell_type": "code",
   "execution_count": null,
   "id": "dce50c0b",
   "metadata": {},
   "outputs": [],
   "source": []
  },
  {
   "cell_type": "markdown",
   "id": "4d7f2b26",
   "metadata": {},
   "source": [
    "#### Programación funcional:\n",
    "En la programación funcional, se enfatiza el uso de funciones puras y la composición de operaciones sin efectos secundarios."
   ]
  },
  {
   "cell_type": "code",
   "execution_count": null,
   "id": "284dea38",
   "metadata": {},
   "outputs": [],
   "source": []
  },
  {
   "cell_type": "code",
   "execution_count": null,
   "id": "b2e6897c",
   "metadata": {},
   "outputs": [],
   "source": []
  },
  {
   "cell_type": "markdown",
   "id": "1891d42b",
   "metadata": {},
   "source": [
    "#### Programación imperativa:\n"
   ]
  },
  {
   "cell_type": "code",
   "execution_count": null,
   "id": "b98aa8b9",
   "metadata": {},
   "outputs": [],
   "source": []
  },
  {
   "cell_type": "code",
   "execution_count": null,
   "id": "34d3fee7",
   "metadata": {},
   "outputs": [],
   "source": []
  },
  {
   "cell_type": "markdown",
   "id": "5870393b",
   "metadata": {},
   "source": [
    "#### Programación funcional:\n"
   ]
  },
  {
   "cell_type": "code",
   "execution_count": null,
   "id": "1a84edfd",
   "metadata": {},
   "outputs": [],
   "source": []
  },
  {
   "cell_type": "code",
   "execution_count": null,
   "id": "ee7b5f6a",
   "metadata": {},
   "outputs": [],
   "source": []
  },
  {
   "cell_type": "markdown",
   "id": "e63c9632",
   "metadata": {},
   "source": [
    "### Conceptos"
   ]
  },
  {
   "cell_type": "markdown",
   "id": "489eee15",
   "metadata": {},
   "source": [
    "**Funciones como elemento principal**: En la programación funcional, las funciones pueden ser asignadas a variables, pasadas como argumentos a otras funciones y retornadas como resultados. Esto permite una mayor flexibilidad y capacidad de abstracción en el código."
   ]
  },
  {
   "cell_type": "markdown",
   "id": "b7c6fb8c",
   "metadata": {},
   "source": [
    "**Funciones puras**: Las funciones puras son aquellas que no tienen efectos secundarios y siempre producen el mismo resultado para los mismos argumentos. No dependen de variables mutables ni modifican el estado del programa. Al no tener efectos secundarios, son más fáciles de razonar, depurar y probar, y contribuyen a la legibilidad y mantenibilidad del código"
   ]
  },
  {
   "cell_type": "markdown",
   "id": "973c592e",
   "metadata": {},
   "source": [
    "**Inmutabilidad**: La programación funcional promueve el uso de datos inmutables, es decir, aquellos que no pueden ser modificados una vez creados."
   ]
  },
  {
   "cell_type": "markdown",
   "id": "16b81107",
   "metadata": {},
   "source": [
    "**Funciones de orden superior**: Las funciones de orden superior son aquellas que pueden tomar otras funciones como argumentos o devolverlas como resultados. Permiten una mayor modularidad y reutilización del código, ya que se pueden construir funciones más complejas a partir de funciones más simples y genéricas"
   ]
  },
  {
   "cell_type": "markdown",
   "id": "f22a51e1",
   "metadata": {},
   "source": [
    "### Qué vamos a ver"
   ]
  },
  {
   "cell_type": "markdown",
   "id": "3cfbcc61",
   "metadata": {},
   "source": [
    "- Funciones Lambda\n",
    "- Filter\n",
    "- Map\n",
    "- Zip\n",
    "- Reduce\n",
    "- Partial\n",
    "- Recursión\n"
   ]
  },
  {
   "cell_type": "markdown",
   "id": "e2982995",
   "metadata": {},
   "source": [
    "## Funciones lambda"
   ]
  },
  {
   "cell_type": "code",
   "execution_count": null,
   "id": "045c6d1c",
   "metadata": {},
   "outputs": [],
   "source": [
    "# Filtrado de una lista utilizando una función lambda\n"
   ]
  },
  {
   "cell_type": "code",
   "execution_count": null,
   "id": "b9617e06",
   "metadata": {},
   "outputs": [],
   "source": [
    "# Podemos asignar una función lambda a una variable\n"
   ]
  },
  {
   "cell_type": "code",
   "execution_count": null,
   "id": "7dc7933b",
   "metadata": {},
   "outputs": [],
   "source": [
    "# Mapeo de una lista utilizando una función lambda\n"
   ]
  },
  {
   "cell_type": "markdown",
   "id": "96dac736",
   "metadata": {},
   "source": [
    "## Función Map()"
   ]
  },
  {
   "cell_type": "code",
   "execution_count": null,
   "id": "61cf6159",
   "metadata": {},
   "outputs": [],
   "source": [
    "# Convertir una lista de palabras a mayúsculas\n"
   ]
  },
  {
   "cell_type": "code",
   "execution_count": null,
   "id": "b465145c",
   "metadata": {},
   "outputs": [],
   "source": [
    "# Cálculo de longitud de palabras en una lista de sentencias\n",
    "\n"
   ]
  },
  {
   "cell_type": "markdown",
   "id": "abcadb93",
   "metadata": {},
   "source": [
    "## Función Filter()"
   ]
  },
  {
   "cell_type": "code",
   "execution_count": null,
   "id": "028f37ea",
   "metadata": {},
   "outputs": [],
   "source": [
    "# Filtrar palabras con longitud mayor a cierto valor:\n"
   ]
  },
  {
   "cell_type": "code",
   "execution_count": null,
   "id": "c489541d",
   "metadata": {},
   "outputs": [],
   "source": [
    "# Tambien podemos anidar funciones\n"
   ]
  },
  {
   "cell_type": "code",
   "execution_count": null,
   "id": "91adce4e",
   "metadata": {},
   "outputs": [],
   "source": [
    "\n",
    "# Crea una función lambda que reciba un año de nacimiento y devuelva la edad\n",
    "# actual y filtra una lista de usuarios que tengan una edad mayor a 18\n",
    "\n",
    "usuarios = [ \n",
    "    {'nombre': 'Juan', 'nacimiento': 2017},\n",
    "    {'nombre': 'Pedro', 'nacimiento': 2018},\n",
    "    {'nombre': 'Maria', 'nacimiento': 1980},\n",
    "    {'nombre': 'Juana', 'nacimiento': 1995},\n",
    "    {'nombre': 'Jorge', 'nacimiento': 1985},\n",
    "    {'nombre': 'Pablo', 'nacimiento': 1990},\n",
    "    {'nombre': 'Clara', 'nacimiento': 1995},\n",
    "    {'nombre': 'Bea', 'nacimiento': 2019},\n",
    "    {'nombre': 'Pilar', 'nacimiento': 2010},\n",
    "    ]"
   ]
  },
  {
   "cell_type": "markdown",
   "id": "14f82a37",
   "metadata": {},
   "source": [
    "## Función Map()"
   ]
  },
  {
   "cell_type": "code",
   "execution_count": null,
   "id": "22b1ef9d",
   "metadata": {},
   "outputs": [],
   "source": [
    "# Suma 10 a cada elemento de la lista\n"
   ]
  },
  {
   "cell_type": "code",
   "execution_count": null,
   "id": "7ec12116",
   "metadata": {},
   "outputs": [],
   "source": [
    "# Convertir una lista de temperaturas en grados Celsius a Fahrenheit:\n"
   ]
  },
  {
   "cell_type": "code",
   "execution_count": null,
   "id": "10327ab2",
   "metadata": {},
   "outputs": [],
   "source": [
    "# Crea un función que reciba una lista de nombres y añada 'Hola' seguido de cada nombre.\n"
   ]
  },
  {
   "cell_type": "code",
   "execution_count": null,
   "id": "2f370364",
   "metadata": {},
   "outputs": [],
   "source": [
    "# Capitalizar las palabras en una lista:\n"
   ]
  },
  {
   "cell_type": "code",
   "execution_count": null,
   "id": "8fbc7e5a",
   "metadata": {},
   "outputs": [],
   "source": [
    "# Vamos a unir nombre y apellidos\n"
   ]
  },
  {
   "cell_type": "markdown",
   "id": "a1fb0515",
   "metadata": {},
   "source": [
    "## Función reduce()"
   ]
  },
  {
   "cell_type": "markdown",
   "id": "861542c5",
   "metadata": {},
   "source": [
    "La función reduce() es una función que te permite combinar todos los elementos de una lista en un solo resultado. Imagina que tienes una lista de números y quieres sumarlos todos. En lugar de hacerlo uno por uno, reduce() te permite hacerlo automáticamente.\n",
    "\n",
    "La idea principal detrás de reduce() es que toma dos elementos de la lista a la vez y aplica una operación a esos dos elementos para obtener un resultado. Luego, ese resultado se combina con el siguiente elemento de la lista y así sucesivamente hasta que se haya procesado toda la lista. Al final, obtendrás un único valor que representa el resultado final de combinar todos los elementos."
   ]
  },
  {
   "cell_type": "code",
   "execution_count": null,
   "id": "0ab5e955",
   "metadata": {},
   "outputs": [],
   "source": [
    "# Suma los elementos de una lista\n"
   ]
  },
  {
   "cell_type": "code",
   "execution_count": null,
   "id": "d82b8f3c",
   "metadata": {},
   "outputs": [],
   "source": [
    "# Encuentra el valor máximo de una lista utilizando reduce\n"
   ]
  },
  {
   "cell_type": "code",
   "execution_count": null,
   "id": "7f3db80d",
   "metadata": {},
   "outputs": [],
   "source": [
    "# Concatenar las palabras de una lista\n"
   ]
  },
  {
   "cell_type": "markdown",
   "id": "ba0cc65d",
   "metadata": {},
   "source": [
    "## Función partial()"
   ]
  },
  {
   "cell_type": "code",
   "execution_count": null,
   "id": "fd8481c3",
   "metadata": {},
   "outputs": [],
   "source": [
    "from functools import partial\n",
    "# La funcion partial se utiliza para crear una nueva función a partir de una función existente.\n"
   ]
  },
  {
   "cell_type": "code",
   "execution_count": null,
   "id": "bf893c8f",
   "metadata": {},
   "outputs": [],
   "source": []
  },
  {
   "cell_type": "markdown",
   "id": "a5030462",
   "metadata": {},
   "source": [
    "## Recursividad"
   ]
  },
  {
   "cell_type": "code",
   "execution_count": null,
   "id": "c1aecb0a",
   "metadata": {},
   "outputs": [],
   "source": [
    "# Calcula la suma de los valores de una lista de forma recursiva\n"
   ]
  },
  {
   "cell_type": "markdown",
   "id": "3506fee9",
   "metadata": {},
   "source": [
    "## Ejemplos:"
   ]
  },
  {
   "cell_type": "code",
   "execution_count": null,
   "id": "a8a2f5b5",
   "metadata": {},
   "outputs": [],
   "source": [
    "# 1. Data una lista de cadenas obtener una lista de cadenas en mayúsculas\n",
    "\n",
    "# Imaginemos que no existe la función upper para cadenas\n",
    "\n",
    "# sin guardar parcialmente la función\n",
    "\n",
    "# Utilizando la el metodo upper de las cadenas"
   ]
  },
  {
   "cell_type": "code",
   "execution_count": null,
   "id": "598c1c4c",
   "metadata": {},
   "outputs": [],
   "source": [
    "# 2. Dada una lista de alumnos con sus calificaciones, obtener una lista con el nombre de los que han obtenido una \n",
    "# calificación media mayor a 7\n",
    "alumnos = [ {\n",
    "    'nombre': 'Juan',\n",
    "    'calificaciones': [10, 9, 6] # promedio: 7.5\n",
    "    },\n",
    "    {\n",
    "    'nombre': 'Pedro',\n",
    "    'calificaciones': [8, 7, 5] # promedio: 6.5\n",
    "    },\n",
    "    {\n",
    "    'nombre': 'Maria',\n",
    "    'calificaciones': [9, 8, 7] # promedio: 8.0\n",
    "    },\n",
    "    {\n",
    "    'nombre': 'Juana',\n",
    "    'calificaciones': [3,6,4] # promedio: 5.0\n",
    "    },\n",
    "    {\n",
    "    'nombre': 'Jorge',\n",
    "    'calificaciones': [10, 10, 10] # promedio: 10.0\n",
    "    },\n",
    "    {\n",
    "    'nombre': 'Pablo',\n",
    "    'calificaciones': [2, 0, 1] # promedio: 1.0\n",
    "    },\n",
    "    {\n",
    "    'nombre': 'Pilar',\n",
    "    'calificaciones': [5,6,6] # promedio: 5.6\n",
    "    }]\n"
   ]
  },
  {
   "cell_type": "code",
   "execution_count": null,
   "id": "f421a7bf",
   "metadata": {},
   "outputs": [],
   "source": [
    "# 3. Dada una lista de palabras, obtener una lista con las palabras que son palíndromos\n",
    "# palíndromo: una palabra que se lee de izquierda a derecha igual que de derecha a izquierda\n",
    "\n"
   ]
  },
  {
   "cell_type": "code",
   "execution_count": null,
   "id": "b062d493",
   "metadata": {},
   "outputs": [],
   "source": [
    "# 4. Define una función que dado un valor gere tantos numero elevados al cuadrado como el valor que se le pasa\n"
   ]
  },
  {
   "cell_type": "code",
   "execution_count": null,
   "id": "160ec214",
   "metadata": {},
   "outputs": [],
   "source": [
    "# 5. Define una funcion que retorne las palabra de una lista con una longitud mayor o igual a 5\n"
   ]
  },
  {
   "cell_type": "code",
   "execution_count": null,
   "id": "60456162",
   "metadata": {},
   "outputs": [],
   "source": [
    "# 6. Define una función que retorne las palabras de una lista que contengan una letra dada\n"
   ]
  },
  {
   "cell_type": "code",
   "execution_count": null,
   "id": "195d5077",
   "metadata": {},
   "outputs": [],
   "source": [
    "from functools import reduce\n",
    "# 7. Define una función que dada una lista de palabras concatene todas con un '|' mediante reduce\n",
    "\n"
   ]
  },
  {
   "cell_type": "code",
   "execution_count": null,
   "id": "55080724",
   "metadata": {},
   "outputs": [],
   "source": []
  }
 ],
 "metadata": {
  "kernelspec": {
   "display_name": "Python 3 (ipykernel)",
   "language": "python",
   "name": "python3"
  },
  "language_info": {
   "codemirror_mode": {
    "name": "ipython",
    "version": 3
   },
   "file_extension": ".py",
   "mimetype": "text/x-python",
   "name": "python",
   "nbconvert_exporter": "python",
   "pygments_lexer": "ipython3",
   "version": "3.10.11"
  }
 },
 "nbformat": 4,
 "nbformat_minor": 5
}
